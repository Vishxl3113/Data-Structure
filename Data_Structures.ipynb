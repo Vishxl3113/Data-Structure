{
  "nbformat": 4,
  "nbformat_minor": 0,
  "metadata": {
    "colab": {
      "provenance": [],
      "include_colab_link": true
    },
    "kernelspec": {
      "name": "python3",
      "display_name": "Python 3"
    },
    "language_info": {
      "name": "python"
    }
  },
  "cells": [
    {
      "cell_type": "markdown",
      "metadata": {
        "id": "view-in-github",
        "colab_type": "text"
      },
      "source": [
        "<a href=\"https://colab.research.google.com/github/Vishxl3113/Data-Structure/blob/main/Data_Structures.ipynb\" target=\"_parent\"><img src=\"https://colab.research.google.com/assets/colab-badge.svg\" alt=\"Open In Colab\"/></a>"
      ]
    },
    {
      "cell_type": "markdown",
      "source": [
        "# **THEORY QUESTIONS**\n"
      ],
      "metadata": {
        "id": "tchHGci3Lnj0"
      }
    },
    {
      "cell_type": "markdown",
      "source": [
        "###  Q1. What are data structures, and why are they important ?\n",
        "\n",
        "Answer: Data structures are organized ways to store, manage, and retrieve data efficiently. They are important because they optimize data processing, enable problem-solving, and improve the performance of algorithms in software development.\n",
        "\n",
        "### Q2. Explain the difference between mutable and immutable data types with examples ?\n",
        "\n",
        "Answer: Mutable data types can be changed after creation, while immutable data types cannot.\n",
        "For example: in Python, lists ([1, 2, 3]) are mutable as elements can be modified, whereas tuples ((1, 2, 3)) are immutable because their content cannot be altered.\n",
        "\n",
        "\n",
        "### Q3. What are the main differences between lists and tuples in Python ?\n",
        "\n",
        "Answer: The main differences are:\n",
        "i. Mutability: Lists are mutable, while tuples are immutable.\n",
        "ii. Performance: Tuples are faster due to immutability.\n",
        "iii. Usage: Lists are used for dynamic data, and tuples for fixed data.\n",
        "\n",
        "### Q4. Describe how dictionaries store data ?\n",
        "\n",
        "Answer: Dictionaries store data as key-value pairs in an unordered manner. Each key is unique and maps to a specific value, allowing fast data retrieval based on the key. For example, {\"name\": \"Alice\", \"age\": 25} stores data for quick access by keys like \"name\".\n",
        "\n",
        "### Q5. Why might you use a set instead of a list in Python ?\n",
        "\n",
        "Answer: You might use a set instead of a list in Python because:\n",
        "\n",
        "No Duplicates: A set automatically removes duplicate values, while a list can have duplicates.\n",
        "Faster Search: Sets are quicker when checking if an item is in the set.\n",
        "Unordered: Sets don't care about the order of items, so if order doesn’t matter, a set is a good choice.\n",
        "\n",
        "### Q6. What is a string in Python, and how is it different from a list ?\n",
        "\n",
        "Answer: A string in Python is a sequence of characters enclosed in quotes (e.g., \"hello\"). Unlike a list, which can store various data types and is mutable, a string is immutable and specifically designed for text manipulation.\n",
        "\n",
        "    \n",
        "### Q7.  How do tuples ensure data integrity in Python ?\n",
        "                                                                                                                        \n",
        "Answer: Tuples ensure data integrity by being immutable, meaning their elements cannot be modified after creation. This makes them ideal for storing fixed data that should remain constant throughout a program.\n",
        "\n",
        "\n",
        "### Q8. What is a hash table, and how does it relate to dictionaries in Python ?\n",
        "\n",
        "Answer: A hash table is a data structure that stores key-value pairs and uses a special function (called a hash function) to convert the key into an index where the value is stored. This allows for fast lookups, insertions, and deletions.\n",
        "\n",
        "### Q9: Can lists contain different data types in Python ?\n",
        "                                                                                                                                                                                                                                               \n",
        "Answer : Yes, lists in Python can contain different data types. A list can hold a mix of numbers, strings, booleans, or even other lists.\n",
        "\n",
        "### Q10. Explain why strings are immutable in Python ?\n",
        "Answer: Strings are immutable in Python because once they are created, their content cannot be changed. This helps make programs faster and safer by preventing accidental changes to the data. If you need to modify a string, Python creates a new string with the changes instead of changing the original one.\n",
        "\n",
        "### Q11. What advantages do dictionaries offer over lists for certain tasks ?\n",
        "\n",
        "Answer: Dictionaries offer several advantages over lists for certain tasks:\n",
        "\n",
        "Faster Lookups: You can quickly find a value using a key in a dictionary, while with a list, you have to search through all the items.\n",
        "\n",
        "Key-Value Pairs: Dictionaries store data as key-value pairs, making it easier to organize and access data based on a specific key, unlike lists which just store values in order.\n",
        "\n",
        "No Duplicates for Keys: In a dictionary, each key is unique, so you don't need to worry about duplicate keys, while lists can have duplicate items.\n",
        "\n",
        "### Q12. Describe a scenario where using a tuple would be preferable over a list ?\n",
        "                                                                                                                        \n",
        "Answer: A tuple would be better than a list if you need to store data that should not be changed. For example, if you're storing a date (like year, month, day), you don’t want the values to change by accident.\n",
        "\n",
        "### Q13. How do sets handle duplicate values in Python ?\n",
        "\n",
        "Answer: Sets automatically remove duplicate values. If you try to add a duplicate value to a set, it will only keep one copy of that value.\n",
        "\n",
        "### Q14.How does the “in” keyword work differently for lists and dictionaries ?\n",
        "\n",
        "Answer: The in keyword works differently for lists and dictionaries in Python:\n",
        "\n",
        "For lists: It checks if a value is present in the list.\n",
        "For dictionaries: It checks if a key is present in the dictionary, not the value.\n",
        "\n",
        "### Q15. Can you modify the elements of a tuple? Explain why or why not ?\n",
        "\n",
        "Answer: No, you cannot modify the elements of a tuple because tuples are immutable. Once a tuple is created, its values cannot be changed, added, or removed. This is to protect the data from being accidentally changed.\n",
        "\n",
        "### Q16. What is a nested dictionary, and give an example of its use case ?\n",
        "\n",
        "Answer: A nested dictionary is a dictionary that contains other dictionaries as values. This allows you to organize data in multiple layers.\n",
        "\n",
        "Example: students = {\n",
        "    \"Millan\": {\"age\": 20, \"grades\": [85, 90, 88]},\n",
        "    \"Rex\": {\"age\": 22, \"grades\": [78, 82, 80]},\n",
        "}\n",
        "\n",
        "Use case:\n",
        "You can access specific information about a student, like Bob's age, by using the student's name as the key, and then the age key inside that student's dictionary.\n",
        "\n",
        "Example: print(students[\"Rex\"][\"age\"])\n",
        "\n",
        "### Q17.Describe the time complexity of accessing elements in a dictionary ?\n",
        "\n",
        "Answer: Accessing elements in a dictionary is very fast and has a time complexity of O(1), which means it takes the same amount of time no matter how many items are in the dictionary.\n",
        "\n",
        "This is because dictionaries use a special method (hashing) to find the value quickly using the key.\n",
        "\n",
        "### Q18.  In what situations are lists preferred over dictionaries ?\n",
        "\n",
        "Answer: Lists are preferred over dictionaries in situations where:\n",
        "\n",
        "Order matters: If you need to keep items in a specific order, use a list.\n",
        "\n",
        "Index-based access: If you need to access items by their position (like the first, second, etc.), lists are better.\n",
        "\n",
        "Storing similar items: If you're storing a collection of similar items (like numbers or names), a list is a good choice.\n",
        "\n",
        "### Q19. Why are dictionaries considered unordered, and how does that affect data retrieval ?\n",
        "\n",
        "Answer: Dictionaries are considered unordered because the key-value pairs are not stored in any specific sequence, unlike lists. This means that when you iterate over a dictionary, the order of elements may not be the same as when they were added. However, this does not affect data retrieval, as dictionaries provide fast access to values using keys, regardless of order.\n",
        "\n",
        "\n",
        "### Q20.  Explain the difference between a list and a dictionary in terms of data retrieval ?\n",
        "\n",
        "Answer:  In a list, data is retrieved by its index, which is an integer position, while in a dictionary, data is retrieved using a unique key. Lists require sequential searching, making access slower for large datasets, while dictionaries provide faster O(1) average-time access through hashing of keys."
      ],
      "metadata": {
        "id": "eFDDCpnlLp-3"
      }
    },
    {
      "cell_type": "markdown",
      "source": [
        "# **PRATICAL QUESTIONS**"
      ],
      "metadata": {
        "id": "h9A3QRxBOFQc"
      }
    },
    {
      "cell_type": "code",
      "source": [
        "### Q1. Write a code to create a string with your name and print it ?\n",
        "\n",
        "#Answer:\n",
        "\n",
        "my_name = \"Vishal Sharma\"\n",
        "print(my_name)"
      ],
      "metadata": {
        "colab": {
          "base_uri": "https://localhost:8080/"
        },
        "id": "du18t6VrOJ9X",
        "outputId": "a95f3f8e-52f0-40d4-85e5-5d93e77c850f"
      },
      "execution_count": 2,
      "outputs": [
        {
          "output_type": "stream",
          "name": "stdout",
          "text": [
            "Vishal Sharma\n"
          ]
        }
      ]
    },
    {
      "cell_type": "code",
      "source": [
        "### Q2. Write a code to find the length of the string \"Hello World\" ?\n",
        "\n",
        "#Answer:\n",
        "\n",
        "my_string = \"Hello World\"\n",
        "length = len(my_string)\n",
        "print(length)"
      ],
      "metadata": {
        "colab": {
          "base_uri": "https://localhost:8080/"
        },
        "id": "ZW366autOj2o",
        "outputId": "58e32060-77e6-444b-a0ce-bddf25576cea"
      },
      "execution_count": null,
      "outputs": [
        {
          "output_type": "stream",
          "name": "stdout",
          "text": [
            "11\n"
          ]
        }
      ]
    },
    {
      "cell_type": "code",
      "source": [
        "## Q3. Write a code to slice the first 3 characters from the string \"Python Programming\" ?\n",
        "\n",
        "#Answer:\n",
        "\n",
        "my_string = \"Python Programming\"\n",
        "sliced_string = my_string[:3]\n",
        "print(sliced_string)"
      ],
      "metadata": {
        "colab": {
          "base_uri": "https://localhost:8080/"
        },
        "id": "KyZP8ZgfOxK7",
        "outputId": "4ec4ea28-915b-452c-cb79-3036bbac1d11"
      },
      "execution_count": null,
      "outputs": [
        {
          "output_type": "stream",
          "name": "stdout",
          "text": [
            "Pyt\n"
          ]
        }
      ]
    },
    {
      "cell_type": "code",
      "source": [
        "### Q4. Write a code to convert the string \"hello\" to uppercase ?\n",
        "\n",
        "# Answer\n",
        "\n",
        "my_string = \"hello\"\n",
        "uppercase_string = my_string.upper()\n",
        "print(uppercase_string)"
      ],
      "metadata": {
        "colab": {
          "base_uri": "https://localhost:8080/"
        },
        "id": "iWKb6yGLO-02",
        "outputId": "ea2b3ffe-f19d-4183-b66f-dbc32c353708"
      },
      "execution_count": null,
      "outputs": [
        {
          "output_type": "stream",
          "name": "stdout",
          "text": [
            "HELLO\n"
          ]
        }
      ]
    },
    {
      "cell_type": "code",
      "source": [
        "### Q5. Write a code to replace the word \"apple\" with \"orange\" in the string \"I like apple\" ?\n",
        "\n",
        "#Answer:\n",
        "\n",
        "my_string = \"I like apple\"\n",
        "new_string = my_string.replace(\"apple\", \"orange\")\n",
        "print(new_string)"
      ],
      "metadata": {
        "colab": {
          "base_uri": "https://localhost:8080/"
        },
        "id": "6OfzTowKPKpm",
        "outputId": "23b04bf8-d3ff-4d1c-fbb4-9f699164ee02"
      },
      "execution_count": null,
      "outputs": [
        {
          "output_type": "stream",
          "name": "stdout",
          "text": [
            "I like orange\n"
          ]
        }
      ]
    },
    {
      "cell_type": "code",
      "source": [
        "### Q6. Write a code to create a list with numbers 1 to 5 and print it ?\n",
        "\n",
        "#Answer:\n",
        "\n",
        "my_list = [1, 2, 3, 4, 5]\n",
        "print(my_list)"
      ],
      "metadata": {
        "colab": {
          "base_uri": "https://localhost:8080/"
        },
        "id": "w4xP7bPMPXmH",
        "outputId": "60cbf669-60fe-4dd3-c512-4d2b1215d8cc"
      },
      "execution_count": null,
      "outputs": [
        {
          "output_type": "stream",
          "name": "stdout",
          "text": [
            "[1, 2, 3, 4, 5]\n"
          ]
        }
      ]
    },
    {
      "cell_type": "code",
      "source": [
        "### Q7. Write a code to append the number 10 to the list [1, 2, 3, 4] ?\n",
        "#Answer:\n",
        "\n",
        "my_list = [1, 2, 3, 4]\n",
        "my_list.append(10)\n",
        "print(my_list)"
      ],
      "metadata": {
        "colab": {
          "base_uri": "https://localhost:8080/"
        },
        "id": "ZL82JJeLPiLm",
        "outputId": "221c3927-5646-4e67-a012-7e0c5522be6d"
      },
      "execution_count": null,
      "outputs": [
        {
          "output_type": "stream",
          "name": "stdout",
          "text": [
            "[1, 2, 3, 4, 10]\n"
          ]
        }
      ]
    },
    {
      "cell_type": "code",
      "source": [
        "###Q8. Write a code to remove the number 3 from the list [1, 2, 3, 4, 5]\n",
        "\n",
        "# Answer:\n",
        "\n",
        "my_list = [1, 2, 3, 4, 5]\n",
        "my_list.remove(3)\n",
        "print(my_list)"
      ],
      "metadata": {
        "colab": {
          "base_uri": "https://localhost:8080/"
        },
        "id": "hyhU_-s4PzHS",
        "outputId": "de349911-3d20-4323-f03a-dafb0a335383"
      },
      "execution_count": null,
      "outputs": [
        {
          "output_type": "stream",
          "name": "stdout",
          "text": [
            "[1, 2, 4, 5]\n"
          ]
        }
      ]
    },
    {
      "cell_type": "code",
      "source": [
        "### Q9. Write a code to access the second element in the list ['a', 'b', 'c', 'd'] ?\n",
        "\n",
        "#Answer:\n",
        "\n",
        "my_list = ['a', 'b', 'c', 'd']\n",
        "second_element = my_list[1]\n",
        "print(second_element)"
      ],
      "metadata": {
        "colab": {
          "base_uri": "https://localhost:8080/"
        },
        "id": "FqX0tzlWP9_f",
        "outputId": "92ea24b5-fd8f-4ddb-b38e-6f0f6bd12012"
      },
      "execution_count": null,
      "outputs": [
        {
          "output_type": "stream",
          "name": "stdout",
          "text": [
            "b\n"
          ]
        }
      ]
    },
    {
      "cell_type": "code",
      "source": [
        "### Q10. Write a code to reverse the list [10, 20, 30, 40, 50].\n",
        "\n",
        "#Answer:\n",
        "\n",
        "my_list = [10, 20, 30, 40, 50]\n",
        "my_list.reverse()\n",
        "print(my_list)"
      ],
      "metadata": {
        "colab": {
          "base_uri": "https://localhost:8080/"
        },
        "id": "lM79Nr19QNK0",
        "outputId": "9e47faf7-0262-4096-b129-7e9d55dbca9a"
      },
      "execution_count": null,
      "outputs": [
        {
          "output_type": "stream",
          "name": "stdout",
          "text": [
            "[50, 40, 30, 20, 10]\n"
          ]
        }
      ]
    },
    {
      "cell_type": "code",
      "source": [
        "### Q11. Write a code to create a tuple with the elements 10, 20, 30 and print it ?\n",
        "\n",
        "# Answer:\n",
        "\n",
        "my_tuple = (10, 20, 30)\n",
        "print(my_tuple)"
      ],
      "metadata": {
        "colab": {
          "base_uri": "https://localhost:8080/"
        },
        "id": "0sRP5scVQqKx",
        "outputId": "5c8bf3ac-b76c-425b-acf0-cc8419a087b1"
      },
      "execution_count": null,
      "outputs": [
        {
          "output_type": "stream",
          "name": "stdout",
          "text": [
            "(10, 20, 30)\n"
          ]
        }
      ]
    },
    {
      "cell_type": "code",
      "source": [
        "### Q12. Write a code to access the first element of the tuple ('apple', 'banana', 'cherry') ?\n",
        "\n",
        "#Answer:\n",
        "\n",
        "my_tuple = ('apple', 'banana', 'cherry')\n",
        "first_element = my_tuple[0]\n",
        "print(first_element)"
      ],
      "metadata": {
        "colab": {
          "base_uri": "https://localhost:8080/"
        },
        "id": "kwT7LzaJRBWZ",
        "outputId": "6a2f8ee4-c7f6-4b44-9e1a-9b0164084787"
      },
      "execution_count": null,
      "outputs": [
        {
          "output_type": "stream",
          "name": "stdout",
          "text": [
            "apple\n"
          ]
        }
      ]
    },
    {
      "cell_type": "code",
      "source": [
        "### Q13. Write a code to count how many times the number 2 appears in the tuple (1, 2, 3, 2, 4, 2).\n",
        "\n",
        "# Answer:\n",
        "\n",
        "my_tuple = (1, 2, 3, 2, 4, 2)\n",
        "count_of_2 = my_tuple.count(2)\n",
        "print(count_of_2)"
      ],
      "metadata": {
        "colab": {
          "base_uri": "https://localhost:8080/"
        },
        "id": "QzUHppQtRRlJ",
        "outputId": "9857954b-290f-482a-98a3-051eeecc3da8"
      },
      "execution_count": null,
      "outputs": [
        {
          "output_type": "stream",
          "name": "stdout",
          "text": [
            "3\n"
          ]
        }
      ]
    },
    {
      "cell_type": "code",
      "source": [
        "### Q14. Write a code to find the index of the element \"cat\" in the tuple ('dog', 'cat', 'rabbit').\n",
        "\n",
        "#Answer:\n",
        "\n",
        "my_tuple = ('dog', 'cat', 'rabbit')\n",
        "index_of_cat = my_tuple.index('cat')\n",
        "print(index_of_cat)"
      ],
      "metadata": {
        "colab": {
          "base_uri": "https://localhost:8080/"
        },
        "id": "L2UUTxRxRfN2",
        "outputId": "2b007d9c-a1a2-4e82-81a7-ad86ccf8d058"
      },
      "execution_count": null,
      "outputs": [
        {
          "output_type": "stream",
          "name": "stdout",
          "text": [
            "1\n"
          ]
        }
      ]
    },
    {
      "cell_type": "code",
      "source": [
        "### Q15.  Write a code to check if the element \"banana\" is in the tuple ('apple', 'orange', 'banana').\n",
        "\n",
        "#Answer:\n",
        "my_tuple = ('apple', 'orange', 'banana')\n",
        "is_banana_in_tuple = 'banana' in my_tuple\n",
        "print(is_banana_in_tuple)"
      ],
      "metadata": {
        "colab": {
          "base_uri": "https://localhost:8080/"
        },
        "id": "ZVUb9MwDRwFt",
        "outputId": "9530359a-5f4f-4506-d7c7-6452deb28c2d"
      },
      "execution_count": null,
      "outputs": [
        {
          "output_type": "stream",
          "name": "stdout",
          "text": [
            "True\n"
          ]
        }
      ]
    },
    {
      "cell_type": "code",
      "source": [
        "### Q16. Write a code to create a set with the elements 1, 2, 3, 4, 5 and print it.\n",
        "\n",
        "#Answer:\n",
        "\n",
        "my_set = {1, 2, 3, 4, 5}\n",
        "print(my_set)"
      ],
      "metadata": {
        "colab": {
          "base_uri": "https://localhost:8080/"
        },
        "id": "3Yh4M-87SDMZ",
        "outputId": "fdcac763-b513-4116-a41d-c4a4392679db"
      },
      "execution_count": null,
      "outputs": [
        {
          "output_type": "stream",
          "name": "stdout",
          "text": [
            "{1, 2, 3, 4, 5}\n"
          ]
        }
      ]
    },
    {
      "cell_type": "code",
      "source": [
        "### Q17:  Write a code to add the element 6 to the set {1, 2, 3, 4}.\n",
        "\n",
        "#Answer:\n",
        "my_set = {1, 2, 3, 4}\n",
        "my_set.add(6)\n",
        "print(my_set)"
      ],
      "metadata": {
        "colab": {
          "base_uri": "https://localhost:8080/"
        },
        "id": "hoxVuNEESYpw",
        "outputId": "de6fa21b-f292-4fbd-e46f-b5e4b7ede6e0"
      },
      "execution_count": null,
      "outputs": [
        {
          "output_type": "stream",
          "name": "stdout",
          "text": [
            "{1, 2, 3, 4, 6}\n"
          ]
        }
      ]
    },
    {
      "cell_type": "code",
      "source": [
        "### Q18: Write a code to create a tuple with the elements 10, 20, 30 and print it.\n",
        "\n",
        "# Answer:\n",
        "my_tuple = (10, 20, 30)\n",
        "print(my_tuple)"
      ],
      "metadata": {
        "colab": {
          "base_uri": "https://localhost:8080/"
        },
        "id": "1LFFLW1USoTI",
        "outputId": "595c4ca4-6d0e-45a0-db5b-ab733136ec8c"
      },
      "execution_count": null,
      "outputs": [
        {
          "output_type": "stream",
          "name": "stdout",
          "text": [
            "(10, 20, 30)\n"
          ]
        }
      ]
    },
    {
      "cell_type": "code",
      "source": [
        "### Q19: Write a code to access the first element of the tuple ('apple', 'banana', 'cherry').\n",
        "\n",
        "#Answer:\n",
        "\n",
        "my_tuple = ('apple', 'banana', 'cherry')\n",
        "first_element = my_tuple[0]\n",
        "print(first_element)"
      ],
      "metadata": {
        "colab": {
          "base_uri": "https://localhost:8080/"
        },
        "id": "wjFilgiLS5dv",
        "outputId": "7add795f-5687-4a5d-ce2e-1b17ad405726"
      },
      "execution_count": null,
      "outputs": [
        {
          "output_type": "stream",
          "name": "stdout",
          "text": [
            "apple\n"
          ]
        }
      ]
    },
    {
      "cell_type": "code",
      "source": [
        "### Q20: Write a code to count how many times the number 2 appears in the tuple (1, 2, 3, 2, 4, 2).\n",
        "\n",
        "#Answer:\n",
        "\n",
        "my_tuple = (1, 2, 3, 2, 4, 2)\n",
        "count_of_2 = my_tuple.count(2)\n",
        "print(count_of_2)"
      ],
      "metadata": {
        "colab": {
          "base_uri": "https://localhost:8080/"
        },
        "id": "suQLAF4pTIGG",
        "outputId": "4119877e-b42b-4f08-9439-ba2707ad3487"
      },
      "execution_count": null,
      "outputs": [
        {
          "output_type": "stream",
          "name": "stdout",
          "text": [
            "3\n"
          ]
        }
      ]
    },
    {
      "cell_type": "code",
      "source": [
        "### Q21: Write a code to find the index of the element \"cat\" in the tuple ('dog', 'cat', 'rabbit').\n",
        "\n",
        "#Answer:\n",
        "my_tuple = ('dog', 'cat', 'rabbit')\n",
        "index_of_cat = my_tuple.index('cat')\n",
        "print(index_of_cat)"
      ],
      "metadata": {
        "colab": {
          "base_uri": "https://localhost:8080/"
        },
        "id": "EpKzieJcTWdg",
        "outputId": "8534c29e-a240-4772-e4f5-8a884a04a39d"
      },
      "execution_count": null,
      "outputs": [
        {
          "output_type": "stream",
          "name": "stdout",
          "text": [
            "1\n"
          ]
        }
      ]
    },
    {
      "cell_type": "code",
      "source": [
        "### Q22: Write a code to check if the element \"banana\" is in the tuple ('apple', 'orange', 'banana').\n",
        "\n",
        "#Answer:\n",
        "my_tuple = ('apple', 'orange', 'banana')\n",
        "is_banana_in_tuple = 'banana' in my_tuple\n",
        "print(is_banana_in_tuple)"
      ],
      "metadata": {
        "colab": {
          "base_uri": "https://localhost:8080/"
        },
        "id": "0Q-f6UybTjee",
        "outputId": "55ec30f5-0507-43c1-e9ec-2f789217202c"
      },
      "execution_count": null,
      "outputs": [
        {
          "output_type": "stream",
          "name": "stdout",
          "text": [
            "True\n"
          ]
        }
      ]
    },
    {
      "cell_type": "code",
      "source": [
        "### Q23: Write a code to create a set with the elements 1, 2, 3, 4, 5 and print it.\n",
        "\n",
        "#Answer:\n",
        "my_set = {1, 2, 3, 4, 5}\n",
        "print(my_set)"
      ],
      "metadata": {
        "colab": {
          "base_uri": "https://localhost:8080/"
        },
        "id": "7U-yGp94Tv0b",
        "outputId": "71fb33b9-fd90-451e-cfa7-f330b0da57a3"
      },
      "execution_count": null,
      "outputs": [
        {
          "output_type": "stream",
          "name": "stdout",
          "text": [
            "{1, 2, 3, 4, 5}\n"
          ]
        }
      ]
    },
    {
      "cell_type": "code",
      "source": [
        "### Q24: Write a code to add the element 6 to the set {1, 2, 3, 4}.\n",
        "\n",
        "#Answer:\n",
        "my_set = {1, 2, 3, 4}\n",
        "my_set.add(6)\n",
        "print(my_set)"
      ],
      "metadata": {
        "colab": {
          "base_uri": "https://localhost:8080/"
        },
        "id": "iumb4EEFT6oD",
        "outputId": "35755010-38ea-425f-f105-a0b0f6eb5f96"
      },
      "execution_count": 1,
      "outputs": [
        {
          "output_type": "stream",
          "name": "stdout",
          "text": [
            "{1, 2, 3, 4, 6}\n"
          ]
        }
      ]
    }
  ]
}